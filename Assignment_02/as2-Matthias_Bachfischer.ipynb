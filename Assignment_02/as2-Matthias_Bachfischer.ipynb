{
 "cells": [
  {
   "cell_type": "markdown",
   "metadata": {},
   "source": [
    "# Assignment 2: Language Modelling in Hangman"
   ]
  },
  {
   "cell_type": "markdown",
   "metadata": {
    "collapsed": true
   },
   "source": [
    "Student Name: Matthias Bachfischer\n",
    "\n",
    "Student ID: 1133751"
   ]
  },
  {
   "cell_type": "markdown",
   "metadata": {},
   "source": [
    "## General info"
   ]
  },
  {
   "cell_type": "markdown",
   "metadata": {},
   "source": [
    "<b>Due date</b>: Tuesday, 6 April 2021 5pm\n",
    "\n",
    "<b>Submission method</b>: Canvas submission\n",
    "\n",
    "<b>Submission materials</b>: completed copy of this iPython notebook\n",
    "\n",
    "<b>Late submissions</b>: -10% per day (both week and weekend days counted)\n",
    "\n",
    "<b>Marks</b>: 8% of mark for class (with 7% on correctness + 1% on quality and efficiency of your code)\n",
    "\n",
    "<b>Materials</b>: See [Using Jupyter Notebook and Python page](https://canvas.lms.unimelb.edu.au/courses/121115/pages/using-jupyter-notebook-and-python?module_item_id=2681264) on Canvas (under Modules>Resources) for information on the basic setup required for this class, including an iPython notebook viewer and the python packages NLTK, Numpy, Scipy, Matplotlib, Scikit-Learn, and Gensim. We recommend installing all the data for NLTK, since you will need various parts of it to complete this assignment. You can also use any Python built-in packages, but do not use any other 3rd party packages (the packages listed above are all fine to use); if your iPython notebook doesn't run on the marker's machine, you will lose marks. <b> You should use Python 3</b>.  \n",
    "\n",
    "To familiarize yourself with NLTK, here is a free online book:  Steven Bird, Ewan Klein, and Edward Loper (2009). <a href=http://nltk.org/book>Natural Language Processing with Python</a>. O'Reilly Media Inc. You may also consult the <a href=https://www.nltk.org/api/nltk.html>NLTK API</a>.\n",
    "\n",
    "<b>Evaluation</b>: Your iPython notebook should run end-to-end without any errors in a reasonable amount of time, and you must follow all instructions provided below, including specific implementation requirements and instructions for what needs to be printed (please avoid printing output we don't ask for). You should edit the sections below where requested, but leave the rest of the code as is. You should leave the output from running your code in the iPython notebook you submit, to assist with marking. The amount each question is worth is explicitly given. \n",
    "\n",
    "You will be marked not only on the correctness of your methods, but also the quality and efficency of your code: in particular, you should be careful to use Python built-in functions and operators when appropriate and pick descriptive variable names that adhere to <a href=\"https://www.python.org/dev/peps/pep-0008/\">Python style requirements</a>. If you think it might be unclear what you are doing, you should comment your code to help the marker make sense of it.\n",
    "\n",
    "<b>Updates</b>: Any major changes to the assignment will be announced via Canvas. Minor changes and clarifications will be announced on the discussion board; we recommend you check it regularly.\n",
    "\n",
    "<b>Academic misconduct</b>: For most people, collaboration will form a natural part of the undertaking of this homework, and we encourge you to discuss it in general terms with other students. However, this ultimately is still an individual task, and so reuse of code or other instances of clear influence will be considered cheating. We will be checking submissions for originality and will invoke the University’s <a href=\"http://academichonesty.unimelb.edu.au/policy.html\">Academic Misconduct policy</a> where inappropriate levels of collusion or plagiarism are deemed to have taken place."
   ]
  },
  {
   "cell_type": "markdown",
   "metadata": {},
   "source": [
    "# Overview\n",
    "\n",
    "In this homework, you'll be creating an 'artificial intelligence' player for the classic Hangman word guessing game. You will need to implement several different automatic strategies based on character-level n-gram language models. Your objective is to create an automatic player which makes the fewest mistakes."
   ]
  },
  {
   "cell_type": "markdown",
   "metadata": {},
   "source": [
    "# The Hangman Game (7 marks)"
   ]
  },
  {
   "cell_type": "markdown",
   "metadata": {},
   "source": [
    "**Instructions**: The <a href=\"https://en.wikipedia.org/wiki/Hangman_(game)\">Hangman game</a> is a simple game whereby one person thinks of a word, which they keep secret from their opponent, who tries to guess the word one character at a time. The game ends when the opponent makes more than a fixed number of incorrect guesses, or they figure out the secret word before then (in which case they *win*). \n",
    "\n",
    "Here's a simple version of the game. **No implementation is needed.**"
   ]
  },
  {
   "cell_type": "code",
   "execution_count": 1,
   "metadata": {},
   "outputs": [],
   "source": [
    "def hangman(secret_word, guesser, max_mistakes=8, verbose=True, **guesser_args):\n",
    "    \"\"\"\n",
    "        This function plays the hangman game with the provided guesser and returns the number of incorrect guesses. \n",
    "        \n",
    "        secret_word: a string of lower-case alphabetic characters, i.e., the answer to the game\n",
    "        guesser: a function which guesses the next character at each stage in the game\n",
    "            The function takes a:\n",
    "                mask: what is known of the word, as a string with _ denoting an unknown character\n",
    "                guessed: the set of characters which already been guessed in the game\n",
    "                guesser_args: additional (optional) keyword arguments, i.e., name=value\n",
    "        max_mistakes: limit on length of game, in terms of number of allowed mistakes\n",
    "        verbose: silent or verbose diagnostic prints\n",
    "        guesser_args: keyword arguments to pass directly to the guesser function\n",
    "    \"\"\"\n",
    "    secret_word = secret_word.lower()\n",
    "    mask = ['_'] * len(secret_word)\n",
    "    guessed = set()\n",
    "    if verbose:\n",
    "        print(\"Starting hangman game. Target is\", ' '.join(mask), 'length', len(secret_word))\n",
    "    \n",
    "    mistakes = 0\n",
    "    while mistakes < max_mistakes:\n",
    "        if verbose:\n",
    "            print(\"You have\", (max_mistakes-mistakes), \"attempts remaining.\")\n",
    "        guess = guesser(mask, guessed, **guesser_args)\n",
    "\n",
    "        if verbose:\n",
    "            print('Guess is', guess)\n",
    "        if guess in guessed:\n",
    "            if verbose:\n",
    "                print('Already guessed this before.')\n",
    "            mistakes += 1\n",
    "        else:\n",
    "            guessed.add(guess)\n",
    "            if guess in secret_word and len(guess) == 1:\n",
    "                for i, c in enumerate(secret_word):\n",
    "                    if c == guess:\n",
    "                        mask[i] = c\n",
    "                if verbose:\n",
    "                    print('Good guess:', ' '.join(mask))\n",
    "            else:\n",
    "                if len(guess) != 1:\n",
    "                    print('Please guess with only 1 character.')\n",
    "                if verbose:\n",
    "                    print('Sorry, try again.')\n",
    "                mistakes += 1\n",
    "                \n",
    "        if '_' not in mask:\n",
    "            if verbose:\n",
    "                print('Congratulations, you won.')\n",
    "            return mistakes\n",
    "        \n",
    "    if verbose:\n",
    "        print('Out of guesses. The word was', secret_word)    \n",
    "    return mistakes"
   ]
  },
  {
   "cell_type": "markdown",
   "metadata": {},
   "source": [
    "Here is a human guesser allowing interactive play."
   ]
  },
  {
   "cell_type": "code",
   "execution_count": 2,
   "metadata": {},
   "outputs": [],
   "source": [
    "def human(mask, guessed, **kwargs):\n",
    "    \"\"\"\n",
    "    This is a simple function for manual play.\n",
    "    \"\"\"\n",
    "    print('\\nEnter your guess:')\n",
    "    return input().lower().strip()"
   ]
  },
  {
   "cell_type": "markdown",
   "metadata": {},
   "source": [
    "If you want to play hangman interactively, please set `interactive` to `True`. When submitting your solution, set to `False` so we can automatically run the whole notebook using `Run All`."
   ]
  },
  {
   "cell_type": "code",
   "execution_count": 3,
   "metadata": {},
   "outputs": [],
   "source": [
    "interactive = False"
   ]
  },
  {
   "cell_type": "markdown",
   "metadata": {},
   "source": [
    "<b>For your testing:</b>\n",
    "\n",
    "You can play the game interactively using the following command:"
   ]
  },
  {
   "cell_type": "code",
   "execution_count": 4,
   "metadata": {},
   "outputs": [],
   "source": [
    "if interactive:\n",
    "    hangman('plague', human, 8, True)"
   ]
  },
  {
   "cell_type": "markdown",
   "metadata": {
    "collapsed": true
   },
   "source": [
    "### Question 1 (1.0 mark)\n",
    "\n",
    "**Instructions**: We will use the words in NLTK's Brown corpus for training an artificial intelligence guessing algorithm, and for evaluating the quality of the algorithm.\n",
    "\n",
    "Your first task is to compute the number of **unique word types** occurring in the Brown corpus, using `nltk.corpus.brown` and the `words` method, and select only words that are **entirely comprised of alphabetic characters**. You should also **lowercase the words**. Finally, randomly shuffle (`numpy.random.shuffle`) this collection of word types, and split them into disjoint training and testing sets. The test set should contain 1000 word types, and the rest should be in the  training set. Note that we are intentionally making the hangman game hard, as the AI will need to cope with test words that it has not seen before, hence it will need to learn generalisable patterns of characters to make reasonable predictions.\n",
    "\n",
    "**Task**: Collect all unique word types from the Brown corpus, and produce `training_set` and `test_set`, 2 lists that contain 2 disjointed sets of words. Both `training_set` and `test_set` should be a python `list` (as initialised in the code). `test_set` must contain exactly 1000 word types.\n",
    "\n",
    "**Check**: Use the assertion statements in <b>\"For your testing\"</b> below for the expected output."
   ]
  },
  {
   "cell_type": "code",
   "execution_count": 5,
   "metadata": {},
   "outputs": [
    {
     "name": "stdout",
     "output_type": "stream",
     "text": [
      "Number of word types in total = 40234\n",
      "Number of word types in test = 1000\n",
      "Number of word types in train = 39234\n"
     ]
    }
   ],
   "source": [
    "from nltk.corpus import brown\n",
    "import numpy as np\n",
    "\n",
    "np.random.seed(1)\n",
    "\n",
    "# training_set stores the rest word types for training\n",
    "training_set = []\n",
    "# test_set stores 1000 word types for testing\n",
    "test_set = []\n",
    "\n",
    "\n",
    "###\n",
    "# Your answer BEGINS HERE\n",
    "###\n",
    "\n",
    "# Compute # of unique word types\n",
    "import re\n",
    "from nltk.corpus import brown\n",
    "\n",
    "# Create set of unique word types\n",
    "word_types = set()\n",
    "\n",
    "\n",
    "# words from brown corpus\n",
    "brown_words = brown.words()\n",
    "\n",
    "# Select words entirely compromised of alphabetic characters\n",
    "r = re.compile(\"^[a-zA-Z]+$\")\n",
    "\n",
    "brown_words_filtered = list(filter(r.match, brown_words))\n",
    "\n",
    "# lower-case all words\n",
    "brown_words_lower = [word.lower() for word in brown_words_filtered]\n",
    "\n",
    "# obtain word types\n",
    "for word in brown_words_lower:\n",
    "    word_types.add(word)\n",
    "    \n",
    "word_types = list(word_types)\n",
    "\n",
    "# randomly shuffle collection of word types\n",
    "np.random.shuffle(word_types)\n",
    "\n",
    "test_set = word_types[0:1000]\n",
    "training_set = word_types[1000:len(word_types)]\n",
    "\n",
    "print(\"Number of word types in total =\", len(word_types))\n",
    "\n",
    "###\n",
    "# Your answer ENDS HERE\n",
    "###\n",
    "\n",
    "print(\"Number of word types in test =\", len(test_set))\n",
    "print(\"Number of word types in train =\", len(training_set))"
   ]
  },
  {
   "cell_type": "markdown",
   "metadata": {},
   "source": [
    "<b>For your testing:</b>"
   ]
  },
  {
   "cell_type": "code",
   "execution_count": 6,
   "metadata": {},
   "outputs": [],
   "source": [
    "assert(len(training_set) > 35000 and len(training_set) < 45000)\n",
    "assert(len(test_set) == 1000)"
   ]
  },
  {
   "cell_type": "markdown",
   "metadata": {},
   "source": [
    "**Play the game**:\n",
    "\n",
    "Let's see how good you are at this game! Try to guess a random word from the test set. It is surprisingly difficult (and addictive)! Don't forget to set `interactive = True`."
   ]
  },
  {
   "cell_type": "code",
   "execution_count": 7,
   "metadata": {},
   "outputs": [],
   "source": [
    "#play hangman using random words from test set\n",
    "if interactive:\n",
    "    hangman(np.random.choice(test_set), human, 8, True)"
   ]
  },
  {
   "cell_type": "markdown",
   "metadata": {},
   "source": [
    "### Question 2 (1.0 mark)\n",
    "\n",
    "**Instructions**: To set a baseline, your first AI attempt will be a trivial **random method**. For this you should implement a guessing method, similar to the `human` method above, i.e., using the same input arguments and returning a character. Your method should randomly choose a character from the range `a ... z` after excluding the characters that have already been guessed in the current game (all subsequent AI approaches should also exclude previous guesses).\n",
    "\n",
    "To help you measure the performance of this (and later) guesser, a `test_guesser` method that takes a guesser and measures the average number of incorrect guesses made over all the words in the `test_set` is provided to you. \n",
    "\n",
    "**Task**: Complete the `random_guesser` method. It should return a random character from the English alphabets.\n",
    "\n",
    "**Check**: Use the assertion statements in <b>\"For your testing\"</b> below for the expected output."
   ]
  },
  {
   "cell_type": "code",
   "execution_count": 8,
   "metadata": {},
   "outputs": [],
   "source": [
    "def test_guesser(guesser, test=test_set):\n",
    "    \"\"\"\n",
    "        This function takes a guesser and measures the average number of incorrect guesses made over all the words in the test_set. \n",
    "    \"\"\"\n",
    "    total = 0\n",
    "    for word in test:\n",
    "        total += hangman(word, guesser, 26, False)\n",
    "    return total / float(len(test))"
   ]
  },
  {
   "cell_type": "code",
   "execution_count": 9,
   "metadata": {},
   "outputs": [
    {
     "name": "stdout",
     "output_type": "stream",
     "text": [
      "Guessing word = unclouded\n",
      "Number of mistakes made by the random guesser = 18\n",
      "\n",
      "Testing the random guesser using every word in test set\n",
      "Average number of incorrect guesses:  16.539\n"
     ]
    }
   ],
   "source": [
    "def random_guesser(mask, guessed, **kwargs):\n",
    "    \n",
    "    ###\n",
    "    # Your answer BEGINS HERE\n",
    "    ###\n",
    "    import random\n",
    "    import string\n",
    "    \n",
    "    guess = random.choice(string.ascii_letters).lower()\n",
    "    while guess in guessed:\n",
    "        guess = random.choice(string.ascii_letters).lower()\n",
    "    return guess\n",
    "\n",
    "    ###\n",
    "    # Your answer ENDS HERE\n",
    "    ###\n",
    "\n",
    "random_word = np.random.choice(test_set)\n",
    "print(\"Guessing word =\", random_word)\n",
    "print(\"Number of mistakes made by the random guesser =\", hangman(random_word, random_guesser, 26, False))\n",
    "\n",
    "result = test_guesser(random_guesser)\n",
    "print(\"\\nTesting the random guesser using every word in test set\")\n",
    "print(\"Average number of incorrect guesses: \", result)"
   ]
  },
  {
   "cell_type": "markdown",
   "metadata": {},
   "source": [
    "<b>For your testing:</b>"
   ]
  },
  {
   "cell_type": "code",
   "execution_count": 10,
   "metadata": {},
   "outputs": [],
   "source": [
    "assert(result > 10 and result < 20)"
   ]
  },
  {
   "cell_type": "markdown",
   "metadata": {},
   "source": [
    "### Question 3 (1.0 mark)\n",
    "\n",
    "**Instructions:** As your first real AI, you should train a **unigram language model** over the training set. This requires you to find the frequencies of characters over all training words. Using this model, you should write a guesser that returns the character with the highest probability. Remember to exclude already guessed characters. \n",
    "\n",
    "**Task**: Collect the frequencies of characters and store them in `unigram_counts` (use the first answer space). Complete the `unigram_guesser` method. Note that it takes `unigram_counts` as an additional argument (use the second answer space).\n",
    "\n",
    "**Check**: Use the assertion statements in <b>\"For your testing\"</b> below for the expected output."
   ]
  },
  {
   "cell_type": "code",
   "execution_count": 11,
   "metadata": {},
   "outputs": [
    {
     "name": "stdout",
     "output_type": "stream",
     "text": [
      "Testing the unigram guesser using every word in test set\n",
      "Average number of incorrect guesses:  10.407\n"
     ]
    }
   ],
   "source": [
    "unigram_counts = None\n",
    "\n",
    "###\n",
    "# Your answer BEGINS HERE\n",
    "###\n",
    "from collections import Counter, OrderedDict\n",
    "\n",
    "\n",
    "# find frequeny of each character in training set\n",
    "def get_unigram_counts(words):\n",
    "    unigram_counts = Counter()\n",
    "\n",
    "    # collect initial unigram statistics\n",
    "    for word in words: \n",
    "        counter = {char:word.count(char) for char in set(word)}\n",
    "        unigram_counts += counter\n",
    "\n",
    "    return unigram_counts\n",
    "    \n",
    "unigram_counts = get_unigram_counts(training_set)\n",
    "\n",
    "###\n",
    "# Your answer ENDS HERE\n",
    "###\n",
    "\n",
    "def unigram_guesser(mask, guessed, unigram_counts=unigram_counts):\n",
    "\n",
    "    ###\n",
    "    # Your answer BEGINS HERE\n",
    "    ###\n",
    "    \n",
    "    # Dict that holds probabilities for each character a-z\n",
    "    probabilities_per_character = {}\n",
    "    \n",
    "    total_counts = float(sum(unigram_counts.values()))\n",
    "\n",
    "    # update probabilities for each character\n",
    "    for character in unigram_counts:\n",
    "        if character not in probabilities_per_character:\n",
    "            probabilities_per_character[character] = []\n",
    "        probabilities_per_character[character].append(unigram_counts[character] / total_counts)\n",
    "    \n",
    "    \n",
    "    probabilities_ordered = OrderedDict(sorted(probabilities_per_character.items(), key=lambda t: t[1], reverse=True))\n",
    "    guesses = list(probabilities_ordered.keys())\n",
    "    \n",
    "    # deal with missing characters (i.e. make sure we try every character in the alphabet )\n",
    "    alphabet = ['a', 'b', 'c', 'd', 'e', 'f', 'g', 'h', 'i', 'j', 'k', 'l', 'm', 'n', 'o', 'p', 'q', 'r', 's', 't', 'u', 'v', 'w', 'x', 'y', 'z']\n",
    "    if not all(char in guesses for char in alphabet):\n",
    "        missing_chars = list(set(alphabet) - set(guesses))\n",
    "        # add missing characters to list of guesses (in case there are any missing values)\n",
    "        guesses.extend(missing_chars)\n",
    "    \n",
    "    position = 0\n",
    "    guess = guesses[position]\n",
    "    while guess in guessed:\n",
    "        position += 1\n",
    "        guess = guesses[position]\n",
    "    return guess\n",
    "\n",
    "    ###\n",
    "    # Your answer ENDS HERE\n",
    "    ###\n",
    "\n",
    "\n",
    "result = test_guesser(unigram_guesser)\n",
    "print(\"Testing the unigram guesser using every word in test set\")\n",
    "print(\"Average number of incorrect guesses: \", result)"
   ]
  },
  {
   "cell_type": "markdown",
   "metadata": {},
   "source": [
    "<b>For your testing:</b>"
   ]
  },
  {
   "cell_type": "code",
   "execution_count": 12,
   "metadata": {},
   "outputs": [],
   "source": [
    "assert(result > 5 and result < 15)"
   ]
  },
  {
   "cell_type": "markdown",
   "metadata": {},
   "source": [
    "### Question 4 (1.0 mark)\n",
    "\n",
    "**Instructions:** The length of the secret word is an important clue that we might exploit. Different lengths tend to have different distributions over characters, e.g., short words are less likely to have suffixes or prefixes. You should incorporate this idea by conditioning the unigram model on the length of the secret word, i.e.,  having a **different unigram model for each length**. You will need to be a little careful at test time, to be robust to the situation that you encounter a word length that you didn't see in training. In such a case, your method should behave like the previous `unigram_guesser` in Question 3 (i.e., it guesses characters based on unigram frequencies, unconditioned by the word length).\n",
    "\n",
    "**Task**: Collect the frequencies of characters conditioned on the word length and store them in `unigram_counts_by_length` (use the first answer space). Complete the `unigram_length_guesser` method (use the second answer space).\n",
    "\n",
    "**Check**: Use the assertion statements in <b>\"For your testing\"</b> below for the expected output."
   ]
  },
  {
   "cell_type": "code",
   "execution_count": 13,
   "metadata": {
    "scrolled": false
   },
   "outputs": [
    {
     "name": "stdout",
     "output_type": "stream",
     "text": [
      "Testing the length-conditioned unigram guesser using every word in test set\n",
      "Average number of incorrect guesses:  10.342\n"
     ]
    }
   ],
   "source": [
    "unigram_counts_by_length = None\n",
    "\n",
    "###\n",
    "# Your answer BEGINS HERE\n",
    "###\n",
    "\n",
    "\n",
    "# find frequeny of each character in training set\n",
    "def get_unigram_counts_by_length(words):\n",
    "    unigram_counts_by_length = {}\n",
    "\n",
    "    # collect unigram statistics conditioned by length\n",
    "    for word in words: \n",
    "        word_length = len(word)\n",
    "        \n",
    "        if word_length not in unigram_counts_by_length:\n",
    "            unigram_counts_by_length[word_length] = Counter()\n",
    "            \n",
    "        counter = {char:word.count(char) for char in set(word)}\n",
    "        unigram_counts_by_length[word_length] += counter\n",
    "    \n",
    "    return unigram_counts_by_length\n",
    "    \n",
    "unigram_counts_by_length = get_unigram_counts_by_length(training_set)\n",
    "\n",
    "###\n",
    "# Your answer ENDS HERE\n",
    "###\n",
    "\n",
    "def unigram_length_guesser(mask, guessed, unigram_counts_by_length=unigram_counts_by_length, unigram_counts=unigram_counts):\n",
    "    ###\n",
    "    # Your answer BEGINS HERE\n",
    "    ###\n",
    "    target_string_length = len(mask)\n",
    "    \n",
    "    # Dict that holds probabilities for each character a-z\n",
    "    probabilities_per_character = {}\n",
    "    \n",
    "    if target_string_length in unigram_counts_by_length:\n",
    "        target_unigram_model = unigram_counts_by_length[target_string_length]\n",
    "    else:\n",
    "        target_unigram_model = unigram_counts\n",
    "    \n",
    "    total_counts = float(sum(target_unigram_model.values()))\n",
    "\n",
    "    # update probabilities for each character\n",
    "    for character in target_unigram_model:\n",
    "        if character not in probabilities_per_character:\n",
    "            probabilities_per_character[character] = []\n",
    "        probabilities_per_character[character].append(target_unigram_model[character] / total_counts)\n",
    "        \n",
    "    probabilities_ordered = OrderedDict(sorted(probabilities_per_character.items(), key=lambda t: t[1], reverse=True))\n",
    "    guesses = list(probabilities_ordered.keys())\n",
    "    \n",
    "    # deal with missing characters (i.e. make sure we try every character in the alphabet )\n",
    "    alphabet = ['a', 'b', 'c', 'd', 'e', 'f', 'g', 'h', 'i', 'j', 'k', 'l', 'm', 'n', 'o', 'p', 'q', 'r', 's', 't', 'u', 'v', 'w', 'x', 'y', 'z']\n",
    "    if not all(char in guesses for char in alphabet):\n",
    "        missing_chars = list(set(alphabet) - set(guesses))\n",
    "        # add missing characters to list of guesses (in case there are any missing values)\n",
    "        guesses.extend(missing_chars)\n",
    "    \n",
    "    position = 0\n",
    "    guess = guesses[position]\n",
    "    while guess in guessed:\n",
    "        position += 1\n",
    "        guess = guesses[position]\n",
    "    return guess\n",
    "    ###\n",
    "    # Your answer ENDS HERE\n",
    "    ###\n",
    "\n",
    "result = test_guesser(unigram_length_guesser)\n",
    "print(\"Testing the length-conditioned unigram guesser using every word in test set\")\n",
    "print(\"Average number of incorrect guesses: \", result)"
   ]
  },
  {
   "cell_type": "markdown",
   "metadata": {},
   "source": [
    "<b>For your testing:</b>"
   ]
  },
  {
   "cell_type": "code",
   "execution_count": 14,
   "metadata": {},
   "outputs": [],
   "source": [
    "assert(result > 5 and result < 15)"
   ]
  },
  {
   "cell_type": "markdown",
   "metadata": {},
   "source": [
    "### Question 5 (1.0 mark)\n",
    "\n",
    "**Instructions:** Now for the next challenge, you'll build a **bigram language model** over characters. The order of characters is obviously important, yet this wasn't incorporated in any of the above models. Knowing that the word has the sequence `n _ s s` is a pretty strong clue that the missing character might be `e`. Similarly the distribution over characters that start or end a word are highly biased (e.g., toward common prefixes and suffixes, like *un-*, *-ed* and *-ly*).\n",
    "\n",
    "The task here is to develop a bigram language model over characters, and train it over the training words. Remember to be careful when handling the start of each word properly, e.g., by padding with a special starting symbol such as `$`. Do we also need a special ending symbol? That's for you to decide.\n",
    "\n",
    "Your bigram guesser should apply your language model to each blank position in the secret word by using its left context character. For example, in the partial word `e _ c _ b _ _` we know the left context for the first three blanks, but have no known left context for the last blank. In the case for the last blank, you should revert to using a unigram language model (since there's no context for us to use the bigram model). You should sum up the probability distribution (over all alphabets from <i>a</i> to <i>z</i>) for the 4 blanks, and select the alphabet with the highest probability that hasn't been guessed.\n",
    "\n",
    "**Task**: Collect frequency counts that are necessary for building a bigram language model and store them in bigram_counts; feel free to add new objects if needed (use the first answer space). Complete the `bigram_guesser` method (use the second answer space). Note that the method currently only has one additional argument (`bigram_counts`), but you are free to add additional arguments."
   ]
  },
  {
   "cell_type": "code",
   "execution_count": 15,
   "metadata": {},
   "outputs": [
    {
     "name": "stdout",
     "output_type": "stream",
     "text": [
      "Testing the bigram guesser using every word in test set\n",
      "Average number of incorrect guesses:  8.867\n"
     ]
    }
   ],
   "source": [
    "bigram_counts = None\n",
    "\n",
    "###\n",
    "# Your answer BEGINS HERE\n",
    "###\n",
    "from collections import defaultdict\n",
    "from collections import Counter\n",
    "\n",
    "def convert_word(word):\n",
    "    return [\"<s>\"] + list(word)\n",
    "\n",
    "def get_bigram_counts(words):\n",
    "    \n",
    "    bigram_counts = defaultdict(Counter)\n",
    "\n",
    "    for word in words:\n",
    "        \n",
    "        # obtain bigram counts\n",
    "        word = convert_word(word)\n",
    "        # generate a list of bigrams\n",
    "        bigram_list = zip(word[:-1], word[1:])\n",
    "        # iterate over bigrams\n",
    "        for bigram in bigram_list:\n",
    "            first, second = bigram\n",
    "            bigram_counts[first][second] += 1\n",
    "            \n",
    "    return bigram_counts\n",
    "\n",
    "bigram_counts = get_bigram_counts(training_set)\n",
    "###\n",
    "# Your answer ENDS HERE\n",
    "###\n",
    "    \n",
    "\n",
    "def bigram_guesser(mask, guessed, bigram_counts=bigram_counts, unigram_counts=unigram_counts): # add extra arguments if needed\n",
    "    ###\n",
    "    # Your answer BEGINS HERE\n",
    "    ###\n",
    "    \n",
    "    target_string_length = len(mask)\n",
    "        \n",
    "    # Dict that holds probabilities for each character a-z\n",
    "    probabilities_per_character = {}\n",
    "    \n",
    "    for i in range(target_string_length): \n",
    "        # if character at current position has not been identified yet\n",
    "        if(mask[i] == \"_\"):\n",
    "            # if we are not at the beginning of the word\n",
    "            if i >= 1 and mask[i-1] != \"_\":\n",
    "                prev_counts = bigram_counts[mask[i-1]]\n",
    "            # if we are at the beginning of the word\n",
    "            elif i == 0:\n",
    "                prev_counts = bigram_counts[\"<s>\"]\n",
    "            else:\n",
    "                prev_counts = unigram_counts\n",
    "            \n",
    "            total_counts = float(sum(prev_counts.values()))\n",
    "\n",
    "            # update probabilities for each character\n",
    "            for character in prev_counts:\n",
    "                if character not in probabilities_per_character:\n",
    "                    probabilities_per_character[character] = []\n",
    "\n",
    "                probabilities_per_character[character].append(prev_counts[character] / total_counts)\n",
    "\n",
    "    # Get the sum of probabilties for each character\n",
    "    for char in probabilities_per_character:\n",
    "        probabilities_per_character[char] = sum(probabilities_per_character[char])\n",
    "    \n",
    "    # Order characters in descending order by their probabilities\n",
    "    probabilities_ordered = OrderedDict(sorted(probabilities_per_character.items(), key=lambda t: t[1], reverse=True))\n",
    "    guesses = list(probabilities_ordered.keys())\n",
    "    \n",
    "    # deal with missing characters (i.e. make sure we try every character in the alphabet )\n",
    "    alphabet = ['a', 'b', 'c', 'd', 'e', 'f', 'g', 'h', 'i', 'j', 'k', 'l', 'm', 'n', 'o', 'p', 'q', 'r', 's', 't', 'u', 'v', 'w', 'x', 'y', 'z']\n",
    "    if not all(char in guesses for char in alphabet):\n",
    "        missing_chars = list(set(alphabet) - set(guesses))\n",
    "        # add missing characters to list of guesses (in case there are any missing values)\n",
    "        guesses.extend(missing_chars)\n",
    "    \n",
    "    position = 0\n",
    "    guess = guesses[position]\n",
    "    while guess in guessed:\n",
    "        position += 1\n",
    "        guess = guesses[position]\n",
    "    return guess\n",
    "    ###\n",
    "    # Your answer ENDS HERE\n",
    "    ###\n",
    "\n",
    "\n",
    "\n",
    "result = test_guesser(bigram_guesser)\n",
    "print(\"Testing the bigram guesser using every word in test set\")\n",
    "print(\"Average number of incorrect guesses: \", result)"
   ]
  },
  {
   "cell_type": "markdown",
   "metadata": {},
   "source": [
    "### Question 6 (1.5 mark)\n",
    "\n",
    "**Instructions:** You should try to develop a more effective AI for hangman. Feel free to engage your creativity here! Possibilities include better conditioning on the length of the word, fancier smoothing methods, ngram models and bidirectional models (lecture 8). Have fun!\n",
    "\n",
    "You will be marked based on the performance of your AI model, using a pre-made training and test set (created using a secret seed). Let x be the average number of mistakes in the test set, you will score:\n",
    "* 1.5 mark if x < 8.0\n",
    "* 1.0 mark if 8.0 <= x < 8.5\n",
    "* 0.5 mark if 8.5 <= x < 8.8\n",
    "* 0.0 mark if x >= 8.8\n",
    "\n",
    "Note: when testing your AI model's performance, you may want to consider trying different training/test splits (using different seeds) to have a better understanding of its performance, as there will be some variance to its performance depending on the training/test split.\n",
    "\n",
    "**Task** Complete the `my_amazing_ai_guesser` method, which implements a better language model for hangman."
   ]
  },
  {
   "cell_type": "code",
   "execution_count": 16,
   "metadata": {},
   "outputs": [
    {
     "name": "stdout",
     "output_type": "stream",
     "text": [
      "Testing my amazing AI guesser using every word in test set\n",
      "Average number of incorrect guesses:  7.37\n"
     ]
    }
   ],
   "source": [
    "###\n",
    "# Your answer BEGINS HERE\n",
    "###\n",
    "\n",
    "from nltk.util import ngrams\n",
    "\n",
    "# Randomly split data into training / test sets using different seed values\n",
    "def random_train_test_split(seed):\n",
    "    np.random.seed(seed)\n",
    "\n",
    "    # training_set stores the rest word types for training\n",
    "    training_set = []\n",
    "    # test_set stores 1000 word types for testing\n",
    "    test_set = []\n",
    "\n",
    "    # randomly shuffle collection of word types\n",
    "    np.random.shuffle(word_types)\n",
    "\n",
    "    test_set = word_types[0:1000]\n",
    "    training_set = word_types[1000:len(word_types)]\n",
    "    return (test_set, training_set)\n",
    "\n",
    "test_set, training_set = random_train_test_split(seed=100)\n",
    "\n",
    "trigram_counts = None\n",
    "fourgram_counts = None\n",
    "\n",
    "def get_ngram_counts(words):\n",
    "    \n",
    "    trigram_counts = defaultdict(lambda: defaultdict(Counter))\n",
    "    fourgram_counts = defaultdict(lambda: defaultdict(lambda: defaultdict(Counter)))\n",
    "\n",
    "    for word in words:\n",
    "        \n",
    "        # add prefix to word\n",
    "        word = convert_word(word)\n",
    "        \n",
    "        # generate list of trigrams\n",
    "        trigram_list = list(ngrams(word, 3))\n",
    "        # iterate over trigrams\n",
    "        for trigram in trigram_list:\n",
    "            first, second, third = trigram\n",
    "            trigram_counts[first][second][third] += 1\n",
    "            \n",
    "        # generate list of fourgrams\n",
    "        fougram_list = list(ngrams(word, 4))\n",
    "        # iterate over fourgrams\n",
    "        for fourgram in fougram_list:\n",
    "            first, second, third, fourth = fourgram\n",
    "            fourgram_counts[first][second][third][fourth] += 1\n",
    "            \n",
    "    return (trigram_counts, fourgram_counts)\n",
    "\n",
    "trigram_counts, fourgram_counts = get_ngram_counts(training_set)\n",
    "\n",
    "def my_amazing_ai_guesser(mask, guessed, fourgram_counts = fourgram_counts, trigram_counts = trigram_counts, bigram_counts=bigram_counts, unigram_counts=unigram_counts, unigram_counts_by_length=unigram_counts_by_length, k = 0.8):\n",
    "    \n",
    "    target_string_length = len(mask)\n",
    "    \n",
    "    # Dict that holds probabilities for each character a-z\n",
    "    probabilities_per_character = {}\n",
    "    \n",
    "    for i in range(target_string_length): \n",
    "        # if character at current position has not been identified yet\n",
    "        if(mask[i] == \"_\"):\n",
    "            \n",
    "            # if previous three characters are known\n",
    "            if i >= 3 and mask[i-3] != \"_\" and mask[i-2] != \"_\" and mask[i-1] != \"_\":\n",
    "                prev_counts = fourgram_counts[mask[i-3]][mask[i-2]][mask[i-1]]\n",
    "            # if previous two characters are known and we are at the beginning of the sentence\n",
    "            elif i >= 2 and (i-2) == 0 and mask[i-2] != \"_\" and mask[i-1] != \"_\":\n",
    "                prev_counts = fourgram_counts[\"<s>\"][mask[i-2]][mask[i-1]]\n",
    "            # if previous two characters are known and we are not at the beginning of sentence\n",
    "            elif i >= 2 and mask[i-2] != \"_\" and mask[i-1] != \"_\":     \n",
    "                prev_counts = trigram_counts[mask[i-2]][mask[i-1]]\n",
    "            # if previous one character is known and we are at the beginning of the sentence\n",
    "            elif i >= 1 and (i-1) == 0 and mask[i-1] != \"_\":\n",
    "                prev_counts = trigram_counts[\"<s>\"][mask[i-1]]\n",
    "            # if previous one character is known\n",
    "            elif i >= 1 and mask[i-1] != \"_\":\n",
    "                prev_counts = bigram_counts[mask[i-1]]\n",
    "            # if we are at the beginning of the sentence\n",
    "            elif i == 0:\n",
    "                prev_counts = bigram_counts[\"<s>\"]\n",
    "            # if previous character is unknow (i.e. previous character is \"_\"), then we use unigrams conditioned by length\n",
    "            elif target_string_length in unigram_counts_by_length:\n",
    "                prev_counts = unigram_counts_by_length[target_string_length]\n",
    "            else:\n",
    "                prev_counts = unigram_counts\n",
    "                         \n",
    "            total_counts = float(sum(prev_counts.values()))\n",
    "\n",
    "            # update probabilities for each character\n",
    "            for character in prev_counts:\n",
    "                if character not in probabilities_per_character:\n",
    "                    probabilities_per_character[character] = []\n",
    "\n",
    "                probabilities_per_character[character].append((prev_counts[character] + k) / (total_counts + k*len(unigram_counts)))\n",
    "\n",
    "    # Get the sum of probabilties for each character\n",
    "    for char in probabilities_per_character:\n",
    "        probabilities_per_character[char] = sum(probabilities_per_character[char])\n",
    "        \n",
    "    # Order characters in descending order by their probabilities\n",
    "    probabilities_ordered = OrderedDict(sorted(probabilities_per_character.items(), key=lambda t: t[1], reverse=True))\n",
    "    guesses = list(probabilities_ordered.keys())\n",
    "    \n",
    "    # deal with missing characters (i.e. make sure we try every character in the alphabet )\n",
    "    alphabet = ['a', 'b', 'c', 'd', 'e', 'f', 'g', 'h', 'i', 'j', 'k', 'l', 'm', 'n', 'o', 'p', 'q', 'r', 's', 't', 'u', 'v', 'w', 'x', 'y', 'z']\n",
    "    if not all(char in guesses for char in alphabet):\n",
    "        missing_chars = list(set(alphabet) - set(guesses))\n",
    "        # add missing characters to list of guesses (in case there are any missing values)\n",
    "        guesses.extend(missing_chars)\n",
    "\n",
    "    position = 0\n",
    "    guess = guesses[position]\n",
    "    while guess in guessed:\n",
    "        position += 1\n",
    "        guess = guesses[position]\n",
    "    return guess\n",
    "\n",
    "###\n",
    "# Your answer ENDS HERE\n",
    "###\n",
    "\n",
    "result = test_guesser(my_amazing_ai_guesser)\n",
    "print(\"Testing my amazing AI guesser using every word in test set\")\n",
    "print(\"Average number of incorrect guesses: \", result)"
   ]
  },
  {
   "cell_type": "markdown",
   "metadata": {},
   "source": [
    "### Question 7 (0.5 mark)\n",
    "\n",
    "**Instructions:** Explain your approach and discuss your result below. Please keep your explanation to a short paragraph."
   ]
  },
  {
   "cell_type": "markdown",
   "metadata": {},
   "source": [
    "##### Your answer BEGINS HERE\n",
    "\n",
    "In my approach towards developing a more efficient AI approach for playing hangman, I have mainly focused on extending the previous bigram language model from question 5 and incorporated more advanced prediction strategies.\n",
    "\n",
    "The prediction strategies that are used in *my_amazing_ai_guesser* involves:\n",
    "* Usage of trigrams and fourgrams (in addition to the  bigrams and unigrams that were previously used in question 5). This has helped to significantly boost prediction performance!\n",
    "* Usage of different unigram models depending on the length of the word to be guessed (i.e. usage of the *unigram_counts_by_length* frequencies obtained in question 4).\n",
    "* Usage of add-k smoothing with *k=0.8* to be able to better deal with unseen words\n",
    "\n",
    "The model performance has been evaluated by performing multiple testing rounds with different train / test splits via the *random_train_test_split* function (using different seed values).\n",
    "\n",
    "**Overall, by incorporating the strategies mentioned above I was able to significantly boost model performance - the average number of incorrect guesses has averaged around 7.2 during my experiments.**\n",
    "\n",
    "##### Your answer ENDS HERE"
   ]
  },
  {
   "cell_type": "code",
   "execution_count": null,
   "metadata": {},
   "outputs": [],
   "source": []
  }
 ],
 "metadata": {
  "anaconda-cloud": {},
  "kernelspec": {
   "display_name": "Python 3",
   "language": "python",
   "name": "python3"
  },
  "language_info": {
   "codemirror_mode": {
    "name": "ipython",
    "version": 3
   },
   "file_extension": ".py",
   "mimetype": "text/x-python",
   "name": "python",
   "nbconvert_exporter": "python",
   "pygments_lexer": "ipython3",
   "version": "3.8.5"
  }
 },
 "nbformat": 4,
 "nbformat_minor": 1
}
